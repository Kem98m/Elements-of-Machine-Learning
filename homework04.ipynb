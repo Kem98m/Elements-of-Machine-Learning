{
 "cells": [
  {
   "cell_type": "markdown",
   "metadata": {
    "tags": [
     "AST"
    ]
   },
   "source": [
    "<style>\n",
    "    @media print{\n",
    "        body {\n",
    "            position:relative !important;\n",
    "        }\n",
    "        .celltag_new_page {\n",
    "            page-break-before: always !important;\n",
    "        }\n",
    "    }\n",
    "</style>\n",
    "# COMPSCI 371D Homework 4"
   ]
  },
  {
   "cell_type": "markdown",
   "metadata": {
    "tags": [
     "AT"
    ]
   },
   "source": [
    "### Problem 0 (3 points)"
   ]
  },
  {
   "cell_type": "markdown",
   "metadata": {
    "tags": [
     "AST"
    ]
   },
   "source": [
    "## Part 1: Hyperplanes "
   ]
  },
  {
   "cell_type": "code",
   "execution_count": 1,
   "metadata": {
    "tags": [
     "AST"
    ]
   },
   "outputs": [],
   "source": [
    "import pickle\n",
    "\n",
    "\n",
    "filename = 'data.pkl'\n",
    "with open(filename, 'rb') as file:\n",
    "    data = pickle.load(file)"
   ]
  },
  {
   "cell_type": "code",
   "execution_count": 2,
   "metadata": {
    "tags": [
     "AST"
    ]
   },
   "outputs": [],
   "source": [
    "def check(P, n, beta):\n",
    "    small = np.sqrt(np.finfo(float).eps)\n",
    "    print('Checks for n = {}, beta = {}:'.format(n, beta))\n",
    "    nn = np.linalg.norm(n)\n",
    "    if np.abs(nn - 1.) < small:\n",
    "        print('\\tnorm of n is 1 as expected', end=', ')\n",
    "    else:\n",
    "        print('\\tnorm of n is {}, while expected norm is 1'.format(nn))\n",
    "    if beta >= 0:\n",
    "        print('beta is nonnegative as expected')\n",
    "    else:\n",
    "        print('beta = {} is negative, while it should be nonnegative'.format(beta))\n",
    "    if P.shape[0] == len(n):\n",
    "        print('\\tnumber of points is correct', end=', ')\n",
    "    else:\n",
    "        print('found {} points but expected {}'.format(P.shape[0], len(n)))\n",
    "    checks = ', '.join(['OK' if ok else 'Not OK' for ok in\n",
    "                        np.abs(np.dot(P, n) - beta) < small])\n",
    "    print('individual point checks: {}'.format(checks))"
   ]
  },
  {
   "cell_type": "markdown",
   "metadata": {
    "tags": [
     "AST"
    ]
   },
   "source": [
    "### Problem 1.1 (Exam Style)"
   ]
  },
  {
   "cell_type": "markdown",
   "metadata": {},
   "source": [
    "It is because the centroid of the hyperplane H is an average of all the known points $p_0$ thru $p_{j-1}$ that we know the centroid must be on the hyperplane using the fact that the sum and difference of any two points is a vector parallel to the surface on which they rest. Knowing this fact and noting that the only other factor is a division by a scalar, we know that the centroid must be located on the hyperplane as well."
   ]
  },
  {
   "cell_type": "markdown",
   "metadata": {
    "tags": [
     "AST"
    ]
   },
   "source": [
    "### Problem 1.2 (Exam Style)"
   ]
  },
  {
   "cell_type": "code",
   "execution_count": 3,
   "metadata": {
    "tags": [
     "AST"
    ]
   },
   "outputs": [],
   "source": [
    "from scipy.linalg import null_space\n",
    "import numpy as np\n",
    "\n",
    "def null(A):\n",
    "    return null_space(A).transpose()"
   ]
  },
  {
   "cell_type": "code",
   "execution_count": 4,
   "metadata": {
    "tags": [
     "T"
    ]
   },
   "outputs": [],
   "source": [
    "def rank(A):\n",
    "    row_num, col_num = A.shape\n",
    "    null_row, null_col = null(A).shape\n",
    "    return col_num -null_row"
   ]
  },
  {
   "cell_type": "code",
   "execution_count": 5,
   "metadata": {
    "tags": [
     "AST"
    ]
   },
   "outputs": [
    {
     "name": "stdout",
     "output_type": "stream",
     "text": [
      "1, 2, 1, 2, 2, 3, 2\n"
     ]
    }
   ],
   "source": [
    "try:\n",
    "    ranks = [str(rank(P)) for P in data['rank']]\n",
    "    print(', '.join(ranks))\n",
    "except NameError:\n",
    "    print('rank not implemented?')"
   ]
  },
  {
   "cell_type": "markdown",
   "metadata": {
    "tags": [
     "AST"
    ]
   },
   "source": [
    "### Problem 1.3 (Exam Style)"
   ]
  },
  {
   "cell_type": "code",
   "execution_count": 6,
   "metadata": {
    "tags": [
     "T"
    ]
   },
   "outputs": [],
   "source": [
    "def generic(P):\n",
    "    j, d = P.shape\n",
    "    if j > d+1:\n",
    "        return False\n",
    "    centroid = P.mean(0)\n",
    "    ret = np.subtract(P, centroid)\n",
    "    if rank(ret) == j-1:\n",
    "        return True\n",
    "    else:\n",
    "        return False"
   ]
  },
  {
   "cell_type": "code",
   "execution_count": 7,
   "metadata": {
    "tags": [
     "AST"
    ]
   },
   "outputs": [
    {
     "name": "stdout",
     "output_type": "stream",
     "text": [
      "True, True, True, False, False, False\n"
     ]
    }
   ],
   "source": [
    "try:\n",
    "    answers = [str(generic(P)) for P in data['generic']]\n",
    "    print(', '.join(answers))\n",
    "except NameError:\n",
    "    print('generic not implemented?')"
   ]
  },
  {
   "cell_type": "markdown",
   "metadata": {
    "tags": [
     "AST"
    ]
   },
   "source": [
    "### Problem 1.4 (Exam Style)"
   ]
  },
  {
   "cell_type": "code",
   "execution_count": 8,
   "metadata": {
    "tags": [
     "T"
    ]
   },
   "outputs": [],
   "source": [
    "def hyperplane(P):\n",
    "    j, d = P.shape\n",
    "    assert (j == d and d > 0 and generic(P)), \"Matrix not generic or wrong shape\" \n",
    "    centroid = P.mean(0)\n",
    "    hyper = np.subtract(P, centroid)\n",
    "    Null = null(hyper)\n",
    "    n = Null[0]\n",
    "    beta = np.dot(n.T, P[0])\n",
    "    if beta < 0:\n",
    "        beta = beta * -1\n",
    "        n = n * -1\n",
    "    # n unit vector, beta nonnegative\n",
    "    return n, beta\n",
    "    "
   ]
  },
  {
   "cell_type": "code",
   "execution_count": 9,
   "metadata": {
    "tags": [
     "AST"
    ]
   },
   "outputs": [
    {
     "name": "stdout",
     "output_type": "stream",
     "text": [
      "Checks for n = [-1.], beta = 4.0:\n",
      "\tnorm of n is 1 as expected, beta is nonnegative as expected\n",
      "\tnumber of points is correct, individual point checks: OK\n",
      "Checks for n = [-0.7071  0.7071], beta = 1.1102230246251565e-16:\n",
      "\tnorm of n is 1 as expected, beta is nonnegative as expected\n",
      "\tnumber of points is correct, individual point checks: OK, OK\n",
      "Checks for n = [0.866 0.5  ], beta = 2.999999999999999:\n",
      "\tnorm of n is 1 as expected, beta is nonnegative as expected\n",
      "\tnumber of points is correct, individual point checks: OK, OK\n",
      "Checks for n = [-0.5774 -0.5774 -0.5774], beta = 2.0:\n",
      "\tnorm of n is 1 as expected, beta is nonnegative as expected\n",
      "\tnumber of points is correct, individual point checks: OK, OK, OK\n",
      "Checks for n = [0. 0. 0. 1.], beta = 0.0:\n",
      "\tnorm of n is 1 as expected, beta is nonnegative as expected\n",
      "\tnumber of points is correct, individual point checks: OK, OK, OK, OK\n"
     ]
    }
   ],
   "source": [
    "try:\n",
    "    with np.printoptions(precision=4):\n",
    "        for P in data['hyperplane']:\n",
    "            n, beta = hyperplane(P)\n",
    "            check(P, n, beta)\n",
    "except NameError:\n",
    "    print('hyperplane not implemented?')"
   ]
  },
  {
   "cell_type": "markdown",
   "metadata": {
    "tags": [
     "AST"
    ]
   },
   "source": [
    "### Problem 1.5 (Exam Style)"
   ]
  },
  {
   "cell_type": "code",
   "execution_count": 59,
   "metadata": {
    "tags": [
     "T"
    ]
   },
   "outputs": [],
   "source": [
    "def points(n, beta):\n",
    "    x_0 = n * beta    \n",
    "    Null = null([n])\n",
    "    P = np.add(Null, x_0)\n",
    "    newP = np.vstack((P, x_0))\n",
    "    return newP"
   ]
  },
  {
   "cell_type": "markdown",
   "metadata": {},
   "source": [
    "We rearrage $n.T * x_0 = \\beta$ using linear algebra to get "
   ]
  },
  {
   "cell_type": "code",
   "execution_count": 60,
   "metadata": {
    "tags": [
     "AST"
    ]
   },
   "outputs": [
    {
     "name": "stdout",
     "output_type": "stream",
     "text": [
      "Checks for n = [-1.], beta = 4.0:\n",
      "\tnorm of n is 1 as expected, beta is nonnegative as expected\n",
      "\tnumber of points is correct, individual point checks: OK\n",
      "Checks for n = [-0.7071  0.7071], beta = 0.0:\n",
      "\tnorm of n is 1 as expected, beta is nonnegative as expected\n",
      "\tnumber of points is correct, individual point checks: OK, OK\n",
      "Checks for n = [0.866 0.5  ], beta = 3.0:\n",
      "\tnorm of n is 1 as expected, beta is nonnegative as expected\n",
      "\tnumber of points is correct, individual point checks: OK, OK\n",
      "Checks for n = [-0.5774 -0.5774 -0.5774], beta = 2.0:\n",
      "\tnorm of n is 1 as expected, beta is nonnegative as expected\n",
      "\tnumber of points is correct, individual point checks: OK, OK, OK\n",
      "Checks for n = [0. 0. 0. 1.], beta = 0.0:\n",
      "\tnorm of n is 1 as expected, beta is nonnegative as expected\n",
      "\tnumber of points is correct, individual point checks: OK, OK, OK, OK\n"
     ]
    }
   ],
   "source": [
    "try:\n",
    "    with np.printoptions(precision=4):\n",
    "        for n, beta in data['points']:\n",
    "            P = points(n, beta)\n",
    "            check(P, n, beta)\n",
    "except NameError:\n",
    "    print('points not implemented?')"
   ]
  },
  {
   "cell_type": "markdown",
   "metadata": {
    "tags": [
     "AST"
    ]
   },
   "source": [
    "## Part 2: A Binary Linear Classifier for Linearly Separable Data"
   ]
  },
  {
   "cell_type": "markdown",
   "metadata": {
    "tags": [
     "AST"
    ]
   },
   "source": [
    "### Problem 2.1 (Exam Style)"
   ]
  },
  {
   "cell_type": "markdown",
   "metadata": {},
   "source": [
    "Differentiate the loss function with respect to w and b.\n",
    "\n",
    "$[-y_n x_n] [-y_n]$\n",
    "\n",
    "simplifies to\n",
    "\n",
    "$-y_n [x_n] [1]$"
   ]
  },
  {
   "cell_type": "markdown",
   "metadata": {
    "tags": [
     "AST"
    ]
   },
   "source": [
    "### Problem 2.2"
   ]
  },
  {
   "cell_type": "code",
   "execution_count": null,
   "metadata": {
    "tags": [
     "AST"
    ]
   },
   "outputs": [],
   "source": [
    "import matplotlib.pyplot as plt\n",
    "%matplotlib inline\n",
    "import numpy as np\n",
    "\n",
    "def plot_line(v):\n",
    "    x_lim, y_lim = plt.xlim(), plt.ylim()\n",
    "    w, b = v[:2], v[2]\n",
    "    p = []\n",
    "    if w[1] != 0.:\n",
    "        for x in x_lim:\n",
    "            y = - (b + w[0] * x) / w[1]\n",
    "            if y_lim[0] <= y <= y_lim[1]:\n",
    "                p.append((x, y))\n",
    "    if w[0] != 0.:\n",
    "        for y in y_lim:\n",
    "            x = - (b + w[1] * y) / w[0]\n",
    "            if x_lim[0] < x < x_lim[1]:\n",
    "                p.append((x, y))\n",
    "    if len(p) < 2:\n",
    "        print('Warning: line does not intersect the axis rectangle')\n",
    "    else:\n",
    "        plt.plot([p[0][0], p[1][0]], [p[0][1], p[1][1]], 'r')\n",
    "        plt.xlim(x_lim)\n",
    "        plt.ylim(y_lim)\n",
    "\n",
    "\n",
    "def show(T, v=None, epochs=None):\n",
    "    x, y = (np.array(item) for item in list(zip(*T)))\n",
    "    assert x.shape[1] == 2, 'Can only plot points on the plane'\n",
    "    plt.plot(x[:, 0][y == -1], x[:, 1][y == -1], 'g^')\n",
    "    plt.plot(x[:, 0][y == 1], x[:, 1][y == 1], 'bs')\n",
    "    if v is not None:\n",
    "        plot_line(v)\n",
    "    plt.gca().set_aspect(1)\n",
    "    plt.xticks([])\n",
    "    plt.yticks([])\n",
    "    if epochs is not None:\n",
    "        plt.title('{} epochs to convergence'.format(epochs))"
   ]
  },
  {
   "cell_type": "code",
   "execution_count": null,
   "metadata": {
    "tags": [
     "AST"
    ]
   },
   "outputs": [],
   "source": [
    "import pickle\n",
    "\n",
    "\n",
    "file_name = 'training_set.pkl'\n",
    "with open(file_name, 'rb') as file:\n",
    "    T = pickle.load(file)"
   ]
  },
  {
   "cell_type": "code",
   "execution_count": null,
   "metadata": {},
   "outputs": [],
   "source": [
    "from random import shuffle\n",
    "\n",
    "def train(T, r=.1, max_epochs=100):\n",
    "    v = np.zeros(3, dtype=float)\n",
    "    for i in range(0, max_epochs):\n",
    "        shuffle(T)\n",
    "        p = True\n",
    "        for x, y in T:\n",
    "            product = np.sign(np.dot(v[:2], x) + v[2])\n",
    "            if product != y:\n",
    "                p = False\n",
    "                v = v + r * y * np.append(x, 1.0)\n",
    "        if p == True:  \n",
    "            break\n",
    "            \n",
    "    return v, i+1\n",
    "\n",
    "print(train(T, r=.1, max_epochs=100))\n",
    "for i in range(0,4):\n",
    "    v, epochs = train(T, r=.1, max_epochs=100)\n",
    "    show(T, v, epochs)\n",
    "    plt.show()"
   ]
  },
  {
   "cell_type": "markdown",
   "metadata": {},
   "source": [
    "Observations: Because the training data is shuffled each time, the boundary is found in a different order each time and therefore can be drawn in a number of different ways. Additionally, it may take more or less epochs to converge for the same reason. In general, it also converges pretty fast regardless."
   ]
  },
  {
   "cell_type": "markdown",
   "metadata": {
    "tags": [
     "AST"
    ]
   },
   "source": [
    "### Problem 2.3 (Exam Style)"
   ]
  },
  {
   "cell_type": "markdown",
   "metadata": {},
   "source": [
    "Example 1: $b_1 = b_2$ . Let $b_1 = b_2 = -1$. Let $w_1 = 2$ and $w_2 = 4$. Loss function would be 1 for $l_1$ and 3 for $l_2$. Hyperplane $- \\frac{b}{w}$. So $x = \\frac{1}{2}$ and $x = \\frac{1}{4}$. Example 2: $w_1 = 2$, $w_2 = 4$; $b_1= 0$, $b_2 = 0$. Loss would be $l_1$ 2 and $l_2$ would be 4. Hyperplane is $x = 0$ for both."
   ]
  },
  {
   "cell_type": "markdown",
   "metadata": {
    "tags": [
     "AST"
    ]
   },
   "source": [
    "### Problem 2.4 (Exam Style)"
   ]
  },
  {
   "cell_type": "markdown",
   "metadata": {},
   "source": [
    "In 2.2 code, we update parameters whenever there is a misclassified point. But, if data is not linearly separable, anytime we try to reclassify one point, other points would then be incorrect. So, it would never converge and never be linearly seperable."
   ]
  },
  {
   "cell_type": "markdown",
   "metadata": {
    "tags": [
     "AST"
    ]
   },
   "source": [
    "### Problem 2.5 (Exam Style)"
   ]
  },
  {
   "cell_type": "markdown",
   "metadata": {},
   "source": [
    "\n",
    "Loss function is always strictly decreasing and eventually becomes constant at 0. If we select a and b, $\\phi (b) < \\phi (a)$. Another point c yields $\\phi (c) < \\phi(b)$.\n",
    "\n",
    "When will the search for a value 𝑐 for the inital bracketing triple succeed, and when will it fail?\n",
    "\n",
    "$ \\phi$ b and $\\phi$ c must be equal to zero. Otherwise, it will fail.\n",
    "\n",
    "When it succeeds, does the bracketing triple shrink below 𝜖 if enough iterations of line search are performed?\n",
    "\n",
    "Yes. When bracketing triple succeeds, line search performs as usual because all conditions are satisfied.\n",
    "\n",
    "If 𝛼̂ is the value of 𝛼 returned by line search (regardless of whether the search for an initial 𝑐 succeeds or fails), is 𝛼̂ always within 𝜖 from a point where the loss is zero? That is, is there always a point 𝛼0 such that 𝜙(𝛼0)=0 and |𝛼̂ −𝛼0|≤𝜖 ?\n",
    "\n",
    "Yes."
   ]
  }
 ],
 "metadata": {
  "celltoolbar": "Tags",
  "kernelspec": {
   "display_name": "Python 3",
   "language": "python",
   "name": "python3"
  },
  "language_info": {
   "codemirror_mode": {
    "name": "ipython",
    "version": 3
   },
   "file_extension": ".py",
   "mimetype": "text/x-python",
   "name": "python",
   "nbconvert_exporter": "python",
   "pygments_lexer": "ipython3",
   "version": "3.8.3"
  },
  "pycharm": {
   "stem_cell": {
    "cell_type": "raw",
    "metadata": {
     "collapsed": false
    },
    "source": []
   }
  }
 },
 "nbformat": 4,
 "nbformat_minor": 2
}
