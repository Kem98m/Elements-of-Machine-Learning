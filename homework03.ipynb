{
 "cells": [
  {
   "cell_type": "markdown",
   "metadata": {
    "tags": [
     "AST"
    ]
   },
   "source": [
    "<style>\n",
    "    @media print{\n",
    "        body {\n",
    "            position:relative !important;\n",
    "        }\n",
    "        .celltag_new_page {\n",
    "            page-break-before: always !important;\n",
    "        }\n",
    "    }\n",
    "</style>\n",
    "# COMPSCI 371D Homework 3"
   ]
  },
  {
   "cell_type": "markdown",
   "metadata": {
    "tags": [
     "AST"
    ]
   },
   "source": [
    "### Problem 0 (3 points)"
   ]
  },
  {
   "cell_type": "markdown",
   "metadata": {
    "tags": [
     "AST"
    ]
   },
   "source": [
    "## Part 1: Line Search"
   ]
  },
  {
   "cell_type": "markdown",
   "metadata": {
    "tags": [
     "AST"
    ]
   },
   "source": [
    "### Problem 1.1"
   ]
  },
  {
   "cell_type": "code",
   "execution_count": 1,
   "metadata": {
    "tags": [
     "AST"
    ]
   },
   "outputs": [],
   "source": [
    "import numpy as np\n",
    "from matplotlib import pyplot as plt\n",
    "%matplotlib inline\n",
    "\n",
    "def f(x):\n",
    "    c = 0.225\n",
    "    return np.cos(2. * np.pi * (x + c) ** 2) * np.sin(5. * np.pi * np.log(x + c))"
   ]
  },
  {
   "cell_type": "code",
   "execution_count": 2,
   "metadata": {},
   "outputs": [],
   "source": [
    "def line_search(h, a, b, c, width, show=False):\n",
    "    my_triple = (a, b, c)\n",
    "    counter = 0\n",
    "    while (c-a)>width :\n",
    "        assert a<b and b<c\n",
    "        x_values = np.linspace(a, c, 10)\n",
    "        y_values = np.full(shape=10, fill_value=counter, dtype=np.int)\n",
    "        plt.plot(x_values, y_values, 'b')\n",
    "        plt.plot(a, counter, 'bo', b, counter, 'bo', c, counter, 'bo')\n",
    "        counter = counter + 1\n",
    "        if ((b-a) > (c-b)):\n",
    "            z = (a+b)/2\n",
    "            if (h(z)>h(b)):\n",
    "                a = z\n",
    "            else:\n",
    "                c = b\n",
    "                b = z\n",
    "            x_values = np.linspace(a, c, 10)\n",
    "            y_values = np.full(shape=10, fill_value=counter, dtype=np.int)\n",
    "            plt.plot(x_values, y_values, 'b')    \n",
    "            plt.plot(a, counter, 'bo', b, counter, 'bo', c, counter, 'bo')\n",
    "        else:\n",
    "            z = (b+c)/2\n",
    "            if (h(z)>h(b)):\n",
    "                c = z\n",
    "            else:\n",
    "                a = b\n",
    "                b = z\n",
    "            x_values = np.linspace(a, c, 10)\n",
    "            y_values = np.full(shape=10, fill_value=counter, dtype=np.int)\n",
    "            plt.plot(x_values, y_values, 'b')\n",
    "            plt.plot(a, counter, 'bo', b, counter, 'bo', c, counter, 'bo')\n",
    "    plt.xlabel('Bracketing Triple')\n",
    "    plt.ylabel('Iterations')\n",
    "    print(\"Number of Iterations\")\n",
    "    print(counter)\n",
    "    return b"
   ]
  },
  {
   "cell_type": "code",
   "execution_count": 3,
   "metadata": {},
   "outputs": [
    {
     "name": "stdout",
     "output_type": "stream",
     "text": [
      "Number of Iterations\n",
      "18\n",
      "alpha=0.176171875\n"
     ]
    },
    {
     "data": {
      "image/png": "[encoded data removed]",
      "text/plain": [
       "<Figure size 432x288 with 1 Axes>"
      ]
     },
     "metadata": {
      "needs_background": "light"
     },
     "output_type": "display_data"
    }
   ],
   "source": [
    "alpha = line_search(f, 0., 0.2, 0.6, 1.e-3)\n",
    "print('alpha={}'.format(alpha))"
   ]
  },
  {
   "cell_type": "markdown",
   "metadata": {
    "tags": [
     "AST"
    ]
   },
   "source": [
    "### Problem 1.2 (Question Portion is Exam-Style)"
   ]
  },
  {
   "cell_type": "code",
   "execution_count": 4,
   "metadata": {},
   "outputs": [
    {
     "data": {
      "text/plain": [
       "[<matplotlib.lines.Line2D at 0x1e7de124c40>]"
      ]
     },
     "execution_count": 4,
     "metadata": {},
     "output_type": "execute_result"
    },
    {
     "data": {
      "image/png": "[encoded data removed]",
      "text/plain": [
       "<Figure size 432x288 with 1 Axes>"
      ]
     },
     "metadata": {
      "needs_background": "light"
     },
     "output_type": "display_data"
    }
   ],
   "source": [
    "domain = np.linspace(0, .6, 300)\n",
    "y_output = f(domain)\n",
    "plt.plot(domain, y_output)"
   ]
  },
  {
   "cell_type": "markdown",
   "metadata": {},
   "source": [
    "The line search does not converge to the minimum closest to a = 0. It converges to the minimum closest to the b value of the (a, b, c) bracketing triple. This is not the lowest minimum of the (a, c) range."
   ]
  },
  {
   "cell_type": "markdown",
   "metadata": {
    "tags": [
     "AST"
    ]
   },
   "source": [
    "### Problem 1.3"
   ]
  },
  {
   "cell_type": "code",
   "execution_count": 5,
   "metadata": {},
   "outputs": [
    {
     "name": "stdout",
     "output_type": "stream",
     "text": [
      "Number of Iterations\n",
      "16\n",
      "alpha=0.510546875\n"
     ]
    },
    {
     "data": {
      "image/png": "[encoded data removed]",
      "text/plain": [
       "<Figure size 432x288 with 1 Axes>"
      ]
     },
     "metadata": {
      "needs_background": "light"
     },
     "output_type": "display_data"
    }
   ],
   "source": [
    "alpha = line_search(f, 0., 0.5, 0.6, 1.e-3)\n",
    "print('alpha={}'.format(alpha))"
   ]
  },
  {
   "cell_type": "markdown",
   "metadata": {
    "tags": [
     "AST"
    ]
   },
   "source": [
    "## Part 2: Finding Zeros"
   ]
  },
  {
   "cell_type": "markdown",
   "metadata": {
    "tags": [
     "AST"
    ]
   },
   "source": [
    "### Problem 2.1 (Question (a) is Exam Style)"
   ]
  },
  {
   "cell_type": "markdown",
   "metadata": {
    "tags": [
     "AST"
    ]
   },
   "source": [
    "### Problem 2.2 (Exam Style)"
   ]
  },
  {
   "cell_type": "code",
   "execution_count": 6,
   "metadata": {
    "tags": [
     "AST"
    ]
   },
   "outputs": [],
   "source": [
    "apex_f = [0., 0.05, 0.1, 0.2, 0.25, 0.3, 0.4, 0.5, 0.6]"
   ]
  },
  {
   "cell_type": "markdown",
   "metadata": {
    "tags": [
     "AST"
    ]
   },
   "source": [
    "### Problem 2.3 (Exam Style)"
   ]
  },
  {
   "cell_type": "markdown",
   "metadata": {
    "tags": [
     "AST"
    ]
   },
   "source": [
    "### Problem 2.4"
   ]
  },
  {
   "cell_type": "code",
   "execution_count": 7,
   "metadata": {
    "tags": [
     "AST"
    ]
   },
   "outputs": [],
   "source": [
    "apex_d = [0.02, 0.08, 0.13, 0.2, 0.28, 0.35, 0.45, 0.57]"
   ]
  },
  {
   "cell_type": "markdown",
   "metadata": {
    "tags": [
     "AST"
    ]
   },
   "source": [
    "## Part 3: Steepest Descent "
   ]
  },
  {
   "cell_type": "code",
   "execution_count": 8,
   "metadata": {
    "tags": [
     "AST"
    ]
   },
   "outputs": [],
   "source": [
    "def rosenbrock(u):\n",
    "    u = np.array(u)\n",
    "    y = 100. * (u[1] - u[0] ** 2) ** 2 + (1. - u[0]) ** 2\n",
    "    gradient = np.array([400. * (u[0] ** 3 - u[0] * u[1]) + 2. * u[0] - 2.,\n",
    "                         200. * (u[1] - u[0] ** 2)])\n",
    "    hessian = np.array([[1200. * u[0] ** 2 - 400. * u[1] + 2., -400. * u[0]],\n",
    "                        [-400. * u[0], 200.]])\n",
    "    return y, gradient, hessian\n"
   ]
  },
  {
   "cell_type": "code",
   "execution_count": 9,
   "metadata": {
    "tags": [
     "AST"
    ]
   },
   "outputs": [],
   "source": [
    "u_0, u_star = np.array([-2.0, -2.0]), np.array([1.0, 1.0])"
   ]
  },
  {
   "cell_type": "code",
   "execution_count": 10,
   "metadata": {
    "tags": [
     "AST"
    ]
   },
   "outputs": [
    {
     "data": {
      "image/png": "[encoded data removed]",
      "text/plain": [
       "<Figure size 432x288 with 1 Axes>"
      ]
     },
     "metadata": {
      "needs_background": "light"
     },
     "output_type": "display_data"
    }
   ],
   "source": [
    "def show_history(history, u_star):\n",
    "    n_grid = 101\n",
    "    if len(history) == 0:\n",
    "        span = np.linspace(-3., 2., n_grid)\n",
    "        u = 2 * [span]\n",
    "    else:\n",
    "        h, u = [], []\n",
    "        for i in range(2):\n",
    "            hi = [item[0][i] for item in history]\n",
    "            h.append(hi)\n",
    "            u.append(np.linspace(min(-3., np.floor(np.min(hi) - 1.0)),\n",
    "                                 np.ceil(max(3., np.max(hi) + 1.0)), n_grid))\n",
    "\n",
    "    y = np.array([[rosenbrock(np.array([a, b]))[0] for a in u[0]] for b in u[1]])\n",
    "    levels = np.logspace(0.01, 5, num=10)\n",
    "\n",
    "    fs = 12\n",
    "    _, ax = plt.subplots(1, 1)\n",
    "    plt.contour(u[0], u[1], y, levels, colors='grey', linewidths=1)\n",
    "    if len(history) > 0:\n",
    "        plt.plot(h[0], h[1])\n",
    "        plt.plot(h[0][0], h[1][0], 'bo')\n",
    "    plt.plot(u_star[0], u_star[1], 'ro')\n",
    "    ax.set_aspect(1)\n",
    "    plt.xticks(fontsize=fs)\n",
    "    plt.yticks(fontsize=fs)\n",
    "    plt.xlabel('u_1', fontsize=fs)\n",
    "    plt.ylabel('u_2', fontsize=fs)\n",
    "    if len(history) > 0:\n",
    "        plt.title('{} steps'.format(len(history) - 1), fontsize=fs)\n",
    "    plt.show()\n",
    "\n",
    "    if len(history) > 0:\n",
    "        plt.figure()\n",
    "        plt.semilogy([item[1] for item in history])\n",
    "        plt.xticks(fontsize=fs)\n",
    "        plt.yticks(fontsize=fs)\n",
    "        plt.xlabel('iteration', fontsize=fs)\n",
    "        plt.ylabel('h(u)', fontsize=fs)\n",
    "        plt.show()\n",
    "\n",
    "show_history([], u_star)"
   ]
  },
  {
   "cell_type": "code",
   "execution_count": 11,
   "metadata": {
    "tags": [
     "AST"
    ]
   },
   "outputs": [],
   "source": [
    "from scipy import optimize\n",
    "\n",
    "\n",
    "def complete_line_search(h, epsilon=1.e-8):\n",
    "    outcome = optimize.minimize_scalar(h, (0., 1.e-4), tol=epsilon)\n",
    "    if outcome['success']:\n",
    "        return outcome['x'], outcome['fun']\n",
    "    else:\n",
    "        print('Line search failed:', outcome['message'])\n",
    "        return None, None"
   ]
  },
  {
   "cell_type": "code",
   "execution_count": 12,
   "metadata": {
    "tags": [
     "AST"
    ]
   },
   "outputs": [],
   "source": [
    "def descent(function, u_0, step, delta=1.e-4, max_iterations=1000,\n",
    "            record=True):\n",
    "    found = False\n",
    "    if record:\n",
    "        hist = []\n",
    "    u = u_0.copy()\n",
    "    for k in range(max_iterations):\n",
    "        y, g, H = function(u)\n",
    "        if record:\n",
    "            hist.append((u.copy(), y.copy()))\n",
    "        if np.linalg.norm(g) == 0.:\n",
    "            found = True\n",
    "            break\n",
    "        old_u = u.copy()\n",
    "        u, y = step(function, u, g, H)\n",
    "        if np.linalg.norm(u - old_u) < delta:\n",
    "            found = True\n",
    "            break\n",
    "    if not found:\n",
    "        print('Warning: maximum number of iterations exceeded')\n",
    "    if record:\n",
    "        hist.append((u.copy(), y.copy()))\n",
    "        return u, y, hist\n",
    "    else:\n",
    "        return u, y"
   ]
  },
  {
   "cell_type": "markdown",
   "metadata": {
    "tags": [
     "AST"
    ]
   },
   "source": [
    "### Problem 3.1"
   ]
  },
  {
   "cell_type": "markdown",
   "metadata": {
    "tags": [
     "AST"
    ]
   },
   "source": [
    "### Problem 3.2 (Exam Style)"
   ]
  },
  {
   "cell_type": "markdown",
   "metadata": {
    "tags": [
     "AST"
    ]
   },
   "source": [
    "### Problem 3.3"
   ]
  },
  {
   "cell_type": "markdown",
   "metadata": {
    "tags": [
     "AST"
    ]
   },
   "source": [
    "### Problem 3.4 (Exam Style)"
   ]
  }
 ],
 "metadata": {
  "celltoolbar": "Tags",
  "kernelspec": {
   "display_name": "Python 3",
   "language": "python",
   "name": "python3"
  },
  "language_info": {
   "codemirror_mode": {
    "name": "ipython",
    "version": 3
   },
   "file_extension": ".py",
   "mimetype": "text/x-python",
   "name": "python",
   "nbconvert_exporter": "python",
   "pygments_lexer": "ipython3",
   "version": "3.8.3"
  },
  "pycharm": {
   "stem_cell": {
    "cell_type": "raw",
    "metadata": {
     "collapsed": false
    },
    "source": []
   }
  }
 },
 "nbformat": 4,
 "nbformat_minor": 2
}
