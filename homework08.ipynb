{
 "cells": [
  {
   "cell_type": "markdown",
   "metadata": {
    "tags": [
     "AST"
    ]
   },
   "source": [
    "<style>\n",
    "    @media print{\n",
    "        body {\n",
    "            position:relative !important;\n",
    "        }\n",
    "        .celltag_new_page {\n",
    "            page-break-before: always !important;\n",
    "        }\n",
    "    }\n",
    "</style>\n",
    "# COMPSCI 371D Homework 8"
   ]
  },
  {
   "cell_type": "markdown",
   "metadata": {
    "tags": [
     "AT"
    ]
   },
   "source": [
    "### Problem 0 (3 points)"
   ]
  },
  {
   "cell_type": "markdown",
   "metadata": {
    "tags": [
     "AST"
    ]
   },
   "source": [
    "## Part 1: Splitting Rules"
   ]
  },
  {
   "cell_type": "code",
   "execution_count": 1,
   "metadata": {
    "tags": [
     "AST"
    ]
   },
   "outputs": [
    {
     "name": "stdout",
     "output_type": "stream",
     "text": [
      "{0}, {1}, {0, 1}, {2}, {0, 2}, {1, 2}, {0, 1, 2}\n"
     ]
    }
   ],
   "source": [
    "def list_class_one_labels(n):\n",
    "    bits_lists = [[(number >> i) & 1 for i in range(n)] for number in range(1, 2 ** (n-1))]\n",
    "    return [{index for index, b in enumerate(bits_list) if b} for bits_list in bits_lists]\n",
    "\n",
    "print(', '.join([str(y1) for y1 in list_class_one_labels(4)]))"
   ]
  },
  {
   "cell_type": "code",
   "execution_count": 2,
   "metadata": {
    "tags": [
     "AST"
    ]
   },
   "outputs": [],
   "source": [
    "import decision_tree as dtr\n",
    "import geometry as geo\n",
    "import numpy as np\n",
    "\n",
    "\n",
    "def one_rule(samples, n_labels):\n",
    "    y_samples = dtr.values(samples)\n",
    "    current_impurity = dtr.impurity(y_samples, n_labels)\n",
    "    delta_opt, left_opt, right_opt, j_opt, t_opt = -1., None, None, None, None\n",
    "    d = len(dtr.data_point(samples[0]))\n",
    "    for j in range(d):\n",
    "        xjs = np.array([x[j] for x in dtr.data_points(samples)])\n",
    "        u = np.unique(xjs)\n",
    "        thresholds = (u[:-1] + u[1:]) / 2.\n",
    "        for t in thresholds:\n",
    "            left, right = dtr.pick(samples, xjs <= t), dtr.pick(samples, xjs > t)\n",
    "            delta = dtr.impurity_change(current_impurity, dtr.values(left), dtr.values(right),\n",
    "                                        y_samples, n_labels)\n",
    "            if delta > delta_opt:\n",
    "                delta_opt, left_opt, right_opt, j_opt, t_opt = delta, left, right, j, t\n",
    "    return left_opt, right_opt, dtr.hyperplane(j_opt, t_opt)"
   ]
  },
  {
   "cell_type": "code",
   "execution_count": 3,
   "metadata": {
    "tags": [
     "AST"
    ]
   },
   "outputs": [],
   "source": [
    "import pickle\n",
    "from matplotlib import pyplot as plt\n",
    "%matplotlib inline\n",
    "\n",
    "def show_data(samples, n_labels, colors=('r', 'g', 'b', 'c')):\n",
    "    if samples is not None:\n",
    "        assert n_labels <= len(colors), 'Not enough colors'\n",
    "        geo.plot_polygon(geo.data_space(), boundary_color='k')\n",
    "        for label in range(n_labels):\n",
    "            color = colors[label]\n",
    "            xs = dtr.data_points(samples)\n",
    "            xs = xs[dtr.values(samples) == label]\n",
    "            if len(xs) > 0:\n",
    "                plt.plot(xs[:, 0], xs[:, 1], marker='o', color=color, linewidth=0.)\n",
    "        plt.gca().set_aspect(1)\n",
    "        plt.axis('off')"
   ]
  },
  {
   "cell_type": "markdown",
   "metadata": {
    "tags": [
     "AST"
    ]
   },
   "source": [
    "### Problem 1.1"
   ]
  },
  {
   "cell_type": "markdown",
   "metadata": {
    "tags": [
     "AST"
    ]
   },
   "source": [
    "## Part 2: Logistic-Regression Decision Boundaries for Non-Linearly-Separable Data "
   ]
  },
  {
   "cell_type": "markdown",
   "metadata": {
    "tags": [
     "AST"
    ]
   },
   "source": [
    "### Problem 2.1 (Exam Style)\n",
    "\n"
   ]
  },
  {
   "cell_type": "markdown",
   "metadata": {
    "tags": [
     "AST"
    ]
   },
   "source": [
    "### Problem 2.2 (Exam Style)"
   ]
  },
  {
   "cell_type": "markdown",
   "metadata": {
    "tags": [
     "AST"
    ]
   },
   "source": [
    "### Problem 2.3 (Exam Style)"
   ]
  },
  {
   "cell_type": "markdown",
   "metadata": {
    "tags": [
     "AST"
    ]
   },
   "source": [
    "### Problem 2.4 (Exam Style)"
   ]
  },
  {
   "cell_type": "markdown",
   "metadata": {
    "tags": [
     "AST"
    ]
   },
   "source": [
    "## Part 3: Neural Networks "
   ]
  },
  {
   "cell_type": "markdown",
   "metadata": {
    "tags": [
     "AST"
    ]
   },
   "source": [
    "### Problem 3.1 (Exam Style)"
   ]
  },
  {
   "cell_type": "markdown",
   "metadata": {
    "tags": [
     "AST"
    ]
   },
   "source": [
    "### Problem 3.2 (Exam Style)"
   ]
  },
  {
   "cell_type": "markdown",
   "metadata": {
    "tags": [
     "AST"
    ]
   },
   "source": [
    "### Problem 3.3 (Exam Style)"
   ]
  },
  {
   "cell_type": "markdown",
   "metadata": {
    "tags": [
     "AST"
    ]
   },
   "source": [
    "### Problem 3.4 (Exam Style)"
   ]
  },
  {
   "cell_type": "markdown",
   "metadata": {
    "tags": [
     "AST"
    ]
   },
   "source": [
    "### Problem 3.5 (Exam Style)"
   ]
  }
 ],
 "metadata": {
  "kernelspec": {
   "display_name": "Python 3",
   "language": "python",
   "name": "python3"
  },
  "language_info": {
   "codemirror_mode": {
    "name": "ipython",
    "version": 3
   },
   "file_extension": ".py",
   "mimetype": "text/x-python",
   "name": "python",
   "nbconvert_exporter": "python",
   "pygments_lexer": "ipython3",
   "version": "3.8.3"
  },
  "pycharm": {
   "stem_cell": {
    "cell_type": "raw",
    "metadata": {
     "collapsed": false
    },
    "source": []
   }
  }
 },
 "nbformat": 4,
 "nbformat_minor": 2
}
