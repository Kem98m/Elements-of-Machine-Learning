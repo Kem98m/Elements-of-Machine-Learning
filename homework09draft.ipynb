{
 "cells": [
  {
   "cell_type": "markdown",
   "metadata": {
    "tags": [
     "AST"
    ]
   },
   "source": [
    "<style>\n",
    "    @media print{\n",
    "        body {\n",
    "            position:relative !important;\n",
    "        }\n",
    "        .celltag_new_page {\n",
    "            page-break-before: always !important;\n",
    "        }\n",
    "    }\n",
    "</style>\n",
    "# COMPSCI 371D Homework 9"
   ]
  },
  {
   "cell_type": "markdown",
   "metadata": {
    "tags": [
     "AT"
    ]
   },
   "source": [
    "### Problem 0 (3 points)"
   ]
  },
  {
   "cell_type": "markdown",
   "metadata": {
    "tags": [
     "AST"
    ]
   },
   "source": [
    "## Part 1: Back-Propagation"
   ]
  },
  {
   "cell_type": "markdown",
   "metadata": {
    "tags": [
     "AST"
    ]
   },
   "source": [
    "### Problem 1.1 (Exam Style)\n",
    "\n",
    "Calculate gradient of ReLU and express in terms of sign function.\n",
    "\n",
    "When X < 0, differentiation is 0, sign(a) is -1.\n",
    "When X > 0, differentiation is 1, sign (a) is 1.\n",
    "When X = 0, it is undefined by we define it to be 1/2, sign (a) = 0.\n",
    "\n",
    "So, how do we transform the sign(a) into an expression for the derivative of the ReLU function?\n",
    "        \n",
    "Divide by 2, and add one half.\n",
    "\n",
    "(sign(a)/2) + 1/2 = \n",
    "\n",
    "          {1 if a > 0}\n",
    "          {1/2 if a = 0}\n",
    "          {0 if a < 0}\n",
    "          \n",
    "\n"
   ]
  },
  {
   "cell_type": "markdown",
   "metadata": {
    "tags": [
     "AST"
    ]
   },
   "source": [
    "### Problem 1.2 (Exam Style Except for Code)"
   ]
  },
  {
   "cell_type": "markdown",
   "metadata": {
    "tags": [
     "T"
    ]
   },
   "source": [
    "$$\n",
    "\\begin{eqnarray*}\n",
    "\\text{shape}(g_y) &=& (1,1) \\\\\n",
    "\\text{shape}(J_{\\mathbf{v}}) &=& (1,3) \\\\\n",
    "\\text{shape}(\\mathbf{g}_{\\mathbf{v}}) &=& (1,3) \\\\\n",
    "\\text{shape}(H_{\\mathbf{a}}) &=& (1,2) \\\\\n",
    "\\text{shape}(\\mathbf{g}_{\\mathbf{a}}) &=& (1,2) \\\\\n",
    "\\text{shape}(J_{\\mathbf{u}}) &=& (2,6) \\\\\n",
    "\\text{shape}(\\mathbf{g}_{\\mathbf{u}}) &=& (1,6) \\\\\n",
    "\\text{shape}(\\mathbf{g}_{\\mathbf{w}}) &=& (1,9)\n",
    "\\end{eqnarray*}\n",
    "$$"
   ]
  },
  {
   "cell_type": "markdown",
   "metadata": {},
   "source": [
    "1.2.2.1: y-yn\n",
    "\n",
    "\n",
    "1.2.2.2: (sign(v1a1 + v2a2 + v3)/2 + 1/2) * [a1, a2, 1]\n",
    "\n",
    "\n",
    "1.2.2.3: (sign(v1a1 + v2a2 + v3)/2 + 1/2) * [v1, v2]\n",
    "\n",
    "\n",
    "1.2.2.4: [p'(u1x1 + u2x2 + u3x3) * [x1, x2, x3, 0, 0, 0]]\n",
    "         [p'(u4x1 + u5x2 + u6x3) * [0, 0, 0, x1, x2, x3]]\n",
    "         \n",
    "         \n",
    "1.2.3.1: -2\n",
    "\n",
    "\n",
    "1.2.3.2: [0 8 1]\n",
    "\n",
    "\n",
    "1.2.3.3: [4 1]\n",
    "\n",
    "\n",
    "1.2.3.4: \n",
    "\n",
    "         [0 0 0 0 0 0]\n",
    "         [0 0 0 1 3 2]\n",
    "\n",
    "\n",
    "\n",
    "(Work is below)"
   ]
  },
  {
   "cell_type": "markdown",
   "metadata": {},
   "source": [
    "$$\n",
    "g_y = y - y_n\n",
    "$$\n",
    "\n",
    "$$\n",
    "J_v = \\frac{y'}{v} = p'(Va+b) * a = (\\frac{sign(v_1a_1 + v_2a_2 + v_3)}{2} +\\frac{1}{2} * [a_1, a_2, 1]\n",
    "$$\n",
    "\n",
    "$$\n",
    "\\begin{bmatrix}\n",
    "p'(u_1x_1 + u_2x_2 + u_3x_3) * [x_1, x_2, x_3, 0, 0, 0] \\\\\n",
    "p'(u_4x_1 + u_5x_2 + u_6x_3) * [0, 0, 0,x_1, x_2, x_3] \n",
    "\\end{bmatrix}\n",
    "$$"
   ]
  },
  {
   "cell_type": "markdown",
   "metadata": {
    "tags": [
     "T"
    ]
   },
   "source": [
    "$$\n",
    "\\begin{eqnarray*}\n",
    "g_y &=& y - yn \\\\ \n",
    "\n",
    "\n",
    "J_{\\mathbf{v}} &=&  derivative(y)/derivative(v) = p'(Va + b) * a = (sign(v1a1 + v2a2 + v3)/2 + 1/2) * [a1, a2, 1]\\\\ \n",
    "\n",
    "H_{\\mathbf{a}} &=& derivative(y)/derivative(a) = (sign(v1a1 + v2a2 + v3)/2 + 1/2) * [v1, v2]\\\\\n",
    "\n",
    "J_{\\mathbf{u}} &=& derivative(a)/derivative(u) = \n",
    "[p'(u1x1 + u2x2 + u3x3) * [x1, x2, x3, 0, 0, 0]]\n",
    "\n",
    "[p'(u4x1 + u5x2 + u6x3) * [0, 0, 0, x1, x2, x3]]\n",
    "\\end{eqnarray*}\n",
    "$$\n",
    "\n",
    "and for the given numerical values\n",
    "// Plug in values t\n",
    "$$\n",
    "\\begin{eqnarray*}\n",
    "g_y &=& -2\n",
    "\n",
    "y = p((p(U * x) * V) + b) -> \n",
    "\n",
    "U*x = [2 * 1 + -1 * 3 + 0 * 2]\n",
    "      [-1 * 1 + 1 * 3 + 2 * 3] = \n",
    "      \n",
    "      [-1]\n",
    "      [8]\n",
    "      \n",
    " p[-1]  [0]\n",
    "  [8] = [8]\n",
    "  \n",
    "  [0]\n",
    "  [8] * v = \n",
    "  \n",
    "  0 * 4 + 8 * 1 = 8.\n",
    "  \n",
    "  8 - 3 = 5 = y.\n",
    "  \n",
    "  yn = 7.\n",
    "  \n",
    "  y - yn = -2.\n",
    "  \n",
    "  \n",
    "      \\\\ \n",
    "J_{\\mathbf{v}} &=& [0 8 1]\n",
    "\n",
    "P(Ux) = [0]\n",
    "        [8]\n",
    "        \n",
    "sign((4 * 0 + 1 * 8 + -3)/2) + 1/2) * [0 8 1]   \\\\\n",
    "sign(5/2)/2 + 1/2 = 1/2 + 1/2 = 1\n",
    "\n",
    "1 * [0 8 1] = [0 8 1]\n",
    "\n",
    "H_{\\mathbf{a}} &=& [4 1] \\\\\n",
    "\n",
    "Same as above but times [v1 v2]\n",
    "\n",
    "1 * [4 1] = [4 1]\n",
    "\n",
    "\n",
    "J_{\\mathbf{u}} &=& [0 0 0 0 0 0]\n",
    "                   [0 0 0 1 3 2]\n",
    "\n",
    "\n",
    "[p'(u1x1 + u2x2 + u3x3) * [x1, x2, x3, 0, 0, 0]]\n",
    "\n",
    "[p'(u4x1 + u5x2 + u6x3) * [0, 0, 0, x1, x2, x3]]\n",
    "\n",
    "[p'(2 * 1 + -1 * 3 + 0 * 2) * [1 3 2 0 0 0]]\n",
    "[p'(1 * -1 + 3 * 1 + 2 * 3) * [0 0 0 1 3 2]]\n",
    "\n",
    "[p'(-1) * ...]\n",
    "[p'(8) * ...]\n",
    "\n",
    "p'(-1) = 0\n",
    "p'(8) = 1\n",
    "\n",
    "[0 0 0 0 0 0]\n",
    "[0 0 0 1 3 2]\n",
    "\n",
    "\\end{eqnarray*}\n",
    "$$"
   ]
  },
  {
   "cell_type": "code",
   "execution_count": 15,
   "metadata": {},
   "outputs": [
    {
     "name": "stdout",
     "output_type": "stream",
     "text": [
      "a [0 8]\n",
      "y 5\n",
      "gy -2\n",
      "Jv [0. 8. 1.]\n",
      "Ha [4. 1.]\n",
      "derivative [0. 1.]\n",
      "row1 [0. 0. 0. 0. 0. 0.]\n",
      "row2 [0. 0. 0. 1. 3. 2.]\n",
      "Ju [[0. 0. 0. 0. 0. 0.]\n",
      " [0. 0. 0. 1. 3. 2.]]\n",
      "gv [ -0. -16.  -2.]\n",
      "ga [-8. -2.]\n"
     ]
    },
    {
     "data": {
      "text/plain": [
       "array([  0.,   0.,   0.,  -2.,  -6.,  -4.,  -0., -16.,  -2.])"
      ]
     },
     "execution_count": 15,
     "metadata": {},
     "output_type": "execute_result"
    }
   ],
   "source": [
    "import numpy as np\n",
    "\n",
    "def gradient(xn, yn, U, V, b):\n",
    "    \n",
    "    a = ReLU(np.dot(U, xn))\n",
    "    print(\"a\", a)\n",
    "    y = ReLU(np.dot(V, a) + b)\n",
    "    print(\"y\", y)\n",
    "    gy = y - yn\n",
    "    print(\"gy\", gy)\n",
    "    Jv = ((sign(np.dot(V, a) + b))/2 + 1/2) * np.array([*list(a), 1])\n",
    "    print(\"Jv\", Jv)\n",
    "    Ha = ((sign(np.dot(V, a) + b))/2 + 1/2) * np.array([*list(V)])\n",
    "    print(\"Ha\", Ha)\n",
    "    \n",
    "    \"\"\"\n",
    "    ju1 = (sign(np.dot(U,xn))/2 + 1/2)\n",
    "    print(\"ju1\", ju1)\n",
    "    ju2 = np.array([[*list(xn), 0, 0, 0],[0, 0, 0, *list(xn)]])\n",
    "    print(\"ju2\", ju2)\n",
    "    \"\"\"\n",
    "    derivative = sign(np.dot(U,xn))/2 + 1/2\n",
    "    print(\"derivative\", derivative)\n",
    "    row1 = derivative[0] * np.array([*list(xn), 0, 0, 0])\n",
    "    row2 = derivative[1] * np.array([0, 0, 0, *list(xn)])\n",
    "    print(\"row1\", row1)\n",
    "    print(\"row2\", row2)\n",
    "    Ju = np.concatenate((row1, row2)).reshape(2,6)\n",
    "#    Ju = np.array([ju1 @ ju2])\n",
    "    print(\"Ju\",Ju)\n",
    "    gv = gy * Jv\n",
    "    print(\"gv\", gv)\n",
    "    ga = gy * Ha\n",
    "    print(\"ga\", ga)\n",
    "    gu = np.dot(ga, Ju)\n",
    "    gw = np.array([*list(gu), *list(gv)])\n",
    "    return gw\n",
    "    \n",
    "def ReLU(c):\n",
    "    return np.maximum(c, 0)\n",
    "\n",
    "def sign(c):\n",
    "    return np.sign(c)\n",
    "                    \n",
    "gradient(np.array([1,3,2]), 7, np.array([[2,-1,0],[-1,1,3]]), np.array([4,1]), -3)\n",
    "            "
   ]
  },
  {
   "cell_type": "markdown",
   "metadata": {
    "tags": [
     "AST"
    ]
   },
   "source": [
    "### Problem 1.3 (Exam Style)\n",
    "\n",
    "Yes, valid convolution. Kernel is v and the thing we are convolving on is a."
   ]
  },
  {
   "cell_type": "markdown",
   "metadata": {
    "tags": [
     "AST"
    ]
   },
   "source": [
    "## Part 2: MNIST Digit Recognition"
   ]
  },
  {
   "cell_type": "markdown",
   "metadata": {
    "tags": [
     "AST"
    ]
   },
   "source": [
    "### Problem 2.1"
   ]
  }
 ],
 "metadata": {
  "kernelspec": {
   "display_name": "Python 3",
   "language": "python",
   "name": "python3"
  },
  "language_info": {
   "codemirror_mode": {
    "name": "ipython",
    "version": 3
   },
   "file_extension": ".py",
   "mimetype": "text/x-python",
   "name": "python",
   "nbconvert_exporter": "python",
   "pygments_lexer": "ipython3",
   "version": "3.8.3"
  },
  "pycharm": {
   "stem_cell": {
    "cell_type": "raw",
    "metadata": {
     "collapsed": false
    },
    "source": []
   }
  }
 },
 "nbformat": 4,
 "nbformat_minor": 2
}
